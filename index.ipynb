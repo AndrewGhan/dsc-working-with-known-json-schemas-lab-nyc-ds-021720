{
 "cells": [
  {
   "cell_type": "markdown",
   "metadata": {},
   "source": [
    "# Working with Known JSON Schemas - Lab"
   ]
  },
  {
   "cell_type": "markdown",
   "metadata": {},
   "source": [
    "## Introduction\n",
    "In this lab, you'll practice working with JSON files whose schema you know beforehand."
   ]
  },
  {
   "cell_type": "markdown",
   "metadata": {},
   "source": [
    "## Objectives\n",
    "You will be able to:\n",
    "* Use the JSON module to load and parse JSON documents\n",
    "* Write data to predefined JSON schemas\n",
    "* Convert JSON to a pandas dataframe"
   ]
  },
  {
   "cell_type": "markdown",
   "metadata": {},
   "source": [
    "## Reading a JSON Schema\n",
    "\n",
    "Here's the JSON schema provided for a section of the NY Times API:\n",
    "<img src=\"images/nytimes_movie_schema.png\" width=500>\n",
    "\n",
    "or a fully expanded view:\n",
    "\n",
    "<img src=\"images/nytimes_movie_schema_detailed.png\" width=500>\n",
    "\n",
    "You can more about the documentation [here](https://developer.nytimes.com/docs/movie-reviews-api/1/routes/reviews/%7Btype%7D.json/get)."
   ]
  },
  {
   "cell_type": "markdown",
   "metadata": {},
   "source": [
    "You can see that the master structure is a dictionary and has a key named 'response'. This is also a dictionary and has two keys: 'data' and 'meta'. As you continue to examine the schema hierarchy, you'll notice the vast majority, in this case, are dictionaries. "
   ]
  },
  {
   "cell_type": "markdown",
   "metadata": {},
   "source": [
    "## Loading the Data File\n",
    "\n",
    "Start by importing the json file. The sample response from the api is stored in a file **ny_times_movies.json**"
   ]
  },
  {
   "cell_type": "code",
   "execution_count": 2,
   "metadata": {},
   "outputs": [],
   "source": [
    "import pandas as pd \n",
    "\n",
    "df = pd.read_json('ny_times_movies.json')"
   ]
  },
  {
   "cell_type": "markdown",
   "metadata": {},
   "source": [
    "## Loading Specific Data\n",
    "\n",
    "Create a DataFrame of the major data container within the json file, listed under the 'results' heading in the schema above."
   ]
  },
  {
   "cell_type": "code",
   "execution_count": 7,
   "metadata": {},
   "outputs": [
    {
     "name": "stdout",
     "output_type": "stream",
     "text": [
      "   status                                          copyright  has_more  \\\n",
      "0      OK  Copyright (c) 2018 The New York Times Company....      True   \n",
      "1      OK  Copyright (c) 2018 The New York Times Company....      True   \n",
      "2      OK  Copyright (c) 2018 The New York Times Company....      True   \n",
      "3      OK  Copyright (c) 2018 The New York Times Company....      True   \n",
      "4      OK  Copyright (c) 2018 The New York Times Company....      True   \n",
      "5      OK  Copyright (c) 2018 The New York Times Company....      True   \n",
      "6      OK  Copyright (c) 2018 The New York Times Company....      True   \n",
      "7      OK  Copyright (c) 2018 The New York Times Company....      True   \n",
      "8      OK  Copyright (c) 2018 The New York Times Company....      True   \n",
      "9      OK  Copyright (c) 2018 The New York Times Company....      True   \n",
      "10     OK  Copyright (c) 2018 The New York Times Company....      True   \n",
      "11     OK  Copyright (c) 2018 The New York Times Company....      True   \n",
      "12     OK  Copyright (c) 2018 The New York Times Company....      True   \n",
      "13     OK  Copyright (c) 2018 The New York Times Company....      True   \n",
      "14     OK  Copyright (c) 2018 The New York Times Company....      True   \n",
      "15     OK  Copyright (c) 2018 The New York Times Company....      True   \n",
      "16     OK  Copyright (c) 2018 The New York Times Company....      True   \n",
      "17     OK  Copyright (c) 2018 The New York Times Company....      True   \n",
      "18     OK  Copyright (c) 2018 The New York Times Company....      True   \n",
      "19     OK  Copyright (c) 2018 The New York Times Company....      True   \n",
      "\n",
      "    num_results                                            results  \n",
      "0            20  {'display_title': 'Can You Ever Forgive Me', '...  \n",
      "1            20  {'display_title': 'Charm City', 'mpaa_rating':...  \n",
      "2            20  {'display_title': 'Horn from the Heart: The Pa...  \n",
      "3            20  {'display_title': 'The Price of Everything', '...  \n",
      "4            20  {'display_title': 'Impulso', 'mpaa_rating': ''...  \n",
      "5            20  {'display_title': 'Watergate', 'mpaa_rating': ...  \n",
      "6            20  {'display_title': 'Barbara', 'mpaa_rating': ''...  \n",
      "7            20  {'display_title': 'Over the Limit', 'mpaa_rati...  \n",
      "8            20  {'display_title': 'The Kindergarten Teacher', ...  \n",
      "9            20  {'display_title': 'Classical Period', 'mpaa_ra...  \n",
      "10           20  {'display_title': 'Bad Times at the El Royale'...  \n",
      "11           20  {'display_title': 'Beautiful Boy', 'mpaa_ratin...  \n",
      "12           20  {'display_title': 'The Oath', 'mpaa_rating': '...  \n",
      "13           20  {'display_title': 'Bikini Moon', 'mpaa_rating'...  \n",
      "14           20  {'display_title': 'Goosebumps 2: Haunted Hallo...  \n",
      "15           20  {'display_title': 'The Sentence', 'mpaa_rating...  \n",
      "16           20  {'display_title': 'All Square', 'mpaa_rating':...  \n",
      "17           20  {'display_title': 'Sadie', 'mpaa_rating': '', ...  \n",
      "18           20  {'display_title': 'After Everything', 'mpaa_ra...  \n",
      "19           20  {'display_title': 'First Man', 'mpaa_rating': ...  \n"
     ]
    },
    {
     "data": {
      "text/plain": [
       "0     {'display_title': 'Can You Ever Forgive Me', '...\n",
       "1     {'display_title': 'Charm City', 'mpaa_rating':...\n",
       "2     {'display_title': 'Horn from the Heart: The Pa...\n",
       "3     {'display_title': 'The Price of Everything', '...\n",
       "4     {'display_title': 'Impulso', 'mpaa_rating': ''...\n",
       "5     {'display_title': 'Watergate', 'mpaa_rating': ...\n",
       "6     {'display_title': 'Barbara', 'mpaa_rating': ''...\n",
       "7     {'display_title': 'Over the Limit', 'mpaa_rati...\n",
       "8     {'display_title': 'The Kindergarten Teacher', ...\n",
       "9     {'display_title': 'Classical Period', 'mpaa_ra...\n",
       "10    {'display_title': 'Bad Times at the El Royale'...\n",
       "11    {'display_title': 'Beautiful Boy', 'mpaa_ratin...\n",
       "12    {'display_title': 'The Oath', 'mpaa_rating': '...\n",
       "13    {'display_title': 'Bikini Moon', 'mpaa_rating'...\n",
       "14    {'display_title': 'Goosebumps 2: Haunted Hallo...\n",
       "15    {'display_title': 'The Sentence', 'mpaa_rating...\n",
       "16    {'display_title': 'All Square', 'mpaa_rating':...\n",
       "17    {'display_title': 'Sadie', 'mpaa_rating': '', ...\n",
       "18    {'display_title': 'After Everything', 'mpaa_ra...\n",
       "19    {'display_title': 'First Man', 'mpaa_rating': ...\n",
       "Name: results, dtype: object"
      ]
     },
     "execution_count": 7,
     "metadata": {},
     "output_type": "execute_result"
    }
   ],
   "source": [
    "#Your code here\n",
    "print(df)\n",
    "dfr = df['results']\n",
    "dfr"
   ]
  },
  {
   "cell_type": "markdown",
   "metadata": {},
   "source": [
    "## How many unique critics are there?"
   ]
  },
  {
   "cell_type": "code",
   "execution_count": null,
   "metadata": {},
   "outputs": [],
   "source": [
    "#Your code here"
   ]
  },
  {
   "cell_type": "markdown",
   "metadata": {},
   "source": [
    "## Create a new column for the review's url. Title the column 'review_url'"
   ]
  },
  {
   "cell_type": "code",
   "execution_count": null,
   "metadata": {},
   "outputs": [],
   "source": [
    "#Your code here"
   ]
  },
  {
   "cell_type": "markdown",
   "metadata": {},
   "source": [
    "## How many results are in the file?"
   ]
  },
  {
   "cell_type": "code",
   "execution_count": null,
   "metadata": {},
   "outputs": [],
   "source": [
    "#Your code here"
   ]
  },
  {
   "cell_type": "markdown",
   "metadata": {},
   "source": [
    "## Summary\n",
    "Well done! Here you continued to gather practice extracting data from JSON files and transforming them into our standard tool of Pandas DataFrames."
   ]
  }
 ],
 "metadata": {
  "kernelspec": {
   "display_name": "Python 3",
   "language": "python",
   "name": "python3"
  },
  "language_info": {
   "codemirror_mode": {
    "name": "ipython",
    "version": 3
   },
   "file_extension": ".py",
   "mimetype": "text/x-python",
   "name": "python",
   "nbconvert_exporter": "python",
   "pygments_lexer": "ipython3",
   "version": "3.6.9"
  },
  "toc": {
   "base_numbering": 1,
   "nav_menu": {},
   "number_sections": true,
   "sideBar": true,
   "skip_h1_title": false,
   "title_cell": "Table of Contents",
   "title_sidebar": "Contents",
   "toc_cell": false,
   "toc_position": {},
   "toc_section_display": true,
   "toc_window_display": false
  }
 },
 "nbformat": 4,
 "nbformat_minor": 2
}
